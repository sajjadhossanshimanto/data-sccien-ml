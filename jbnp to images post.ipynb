{
 "cells": [
  {
   "cell_type": "code",
   "execution_count": 8,
   "metadata": {},
   "outputs": [],
   "source": [
    "# template path\n",
    "# C:\\Users\\Lenovo ideaPad 3\\AppData\\Roaming\\Python\\share\\jupyter\\nbconvert\\templates\\latex"
   ]
  },
  {
   "cell_type": "markdown",
   "metadata": {},
   "source": [
    "text formater -> [link](https://typegrow.com/tools/linkedin-text-formatter)\n",
    "\n",
    "unicode helper -> [link](https://www.alt-codes.net/circle-symbols)"
   ]
  },
  {
   "cell_type": "code",
   "execution_count": 25,
   "metadata": {},
   "outputs": [],
   "source": [
    "import nbformat\n",
    "from nbconvert import PDFExporter"
   ]
  },
  {
   "cell_type": "code",
   "execution_count": 26,
   "metadata": {},
   "outputs": [],
   "source": [
    "from traitlets import Integer\n",
    "from nbconvert.preprocessors import Preprocessor\n",
    "\n",
    "\n",
    "class PelicanSubCell(Preprocessor):\n",
    "    \"\"\"A Pelican specific preprocessor to remove some of the cells of a notebook\"\"\"\n",
    "\n",
    "    # I could also read the cells from nb.metadata.pelican if someone wrote a JS extension,\n",
    "    # but for now I'll stay with configurable value.\n",
    "    start = Integer(0, help=\"first cell of notebook to be converted\").tag(config=True)\n",
    "    end = Integer(-1, help=\"last cell of notebook to be converted\").tag(config=True)\n",
    "\n",
    "    def preprocess(self, nb, resources):\n",
    "        self.log.info(\"I'll keep only cells from %d to %d\", self.start, self.end)\n",
    "        nb.cells = nb.cells[self.start : self.end]\n",
    "        return nb, resources"
   ]
  },
  {
   "cell_type": "code",
   "execution_count": 27,
   "metadata": {},
   "outputs": [],
   "source": [
    "from traitlets.config import Config\n",
    "\n",
    "def partial_pdf(start, end, save_as=\"notebook\"):\n",
    "    ''' both end points are included '''\n",
    "    save_as = str(save_as)\n",
    "    \n",
    "    c = Config()\n",
    "    c.PelicanSubCell.start = start\n",
    "    c.PelicanSubCell.end = end\n",
    "    c.PDFExporter.preprocessors = [PelicanSubCell]\n",
    "\n",
    "    expoter = PDFExporter(config = c)\n",
    "    body, res = expoter.from_notebook_node(jb)\n",
    "\n",
    "    with open(save_as+\".pdf\", \"wb\") as f:\n",
    "        f.write(body)\n"
   ]
  },
  {
   "cell_type": "code",
   "execution_count": 28,
   "metadata": {},
   "outputs": [],
   "source": [
    "def search(key:str):\n",
    "    key = key.lower()\n",
    "\n",
    "    count = 0\n",
    "    for cell in jb.cells:\n",
    "        count+=1\n",
    "        if key in cell['source'].lower():\n",
    "            return count-1# Zero indexing"
   ]
  },
  {
   "cell_type": "code",
   "execution_count": 29,
   "metadata": {},
   "outputs": [],
   "source": [
    "# search(\"2d\")"
   ]
  },
  {
   "cell_type": "code",
   "execution_count": 30,
   "metadata": {},
   "outputs": [],
   "source": [
    "def level_number(n):\n",
    "    count = 0\n",
    "    for cell in jb.cells:\n",
    "        count+=1\n",
    "        if 'execution_count' not in cell: continue\n",
    "        if cell['execution_count']==n:\n",
    "            return count-1# zero indexing"
   ]
  },
  {
   "cell_type": "code",
   "execution_count": 31,
   "metadata": {},
   "outputs": [],
   "source": [
    "file = r\"numpy\\provided notes\\02-Numpy Indexing and Selection.ipynb\""
   ]
  },
  {
   "cell_type": "code",
   "execution_count": 32,
   "metadata": {},
   "outputs": [],
   "source": [
    "with open(file) as f:\n",
    "    jb = nbformat.reads(f.read(), as_version=4)"
   ]
  },
  {
   "cell_type": "code",
   "execution_count": 37,
   "metadata": {},
   "outputs": [
    {
     "name": "stdout",
     "output_type": "stream",
     "text": [
      "{'cell_type': 'code',\n",
      " 'execution_count': 37,\n",
      " 'metadata': {},\n",
      " 'outputs': [{'data': {'text/plain': 'array([ 3,  4,  5,  6,  7,  8,  9, 10])'},\n",
      "              'execution_count': 37,\n",
      "              'metadata': {},\n",
      "              'output_type': 'execute_result'}],\n",
      " 'source': 'x = 2\\narr[arr>x]'}\n"
     ]
    },
    {
     "data": {
      "text/plain": [
       "40"
      ]
     },
     "execution_count": 37,
     "metadata": {},
     "output_type": "execute_result"
    }
   ],
   "source": [
    "from pprint import pprint\n",
    "\n",
    "n = level_number(37)\n",
    "pprint(jb.cells[n])\n",
    "n"
   ]
  },
  {
   "cell_type": "code",
   "execution_count": 38,
   "metadata": {},
   "outputs": [],
   "source": [
    "partial_pdf(33, 40, 4)"
   ]
  },
  {
   "cell_type": "code",
   "execution_count": 36,
   "metadata": {},
   "outputs": [
    {
     "name": "stdout",
     "output_type": "stream",
     "text": [
      "{'cell_type': 'markdown',\n",
      " 'metadata': {},\n",
      " 'source': '## Selection\\n'\n",
      "           '\\n'\n",
      "           \"Let's briefly go over how to use brackets for selection based off \"\n",
      "           'of comparison operators.'}\n"
     ]
    }
   ],
   "source": [
    "pprint(jb.cells[33])"
   ]
  },
  {
   "cell_type": "code",
   "execution_count": null,
   "metadata": {},
   "outputs": [],
   "source": []
  }
 ],
 "metadata": {
  "kernelspec": {
   "display_name": "base",
   "language": "python",
   "name": "python3"
  },
  "language_info": {
   "codemirror_mode": {
    "name": "ipython",
    "version": 3
   },
   "file_extension": ".py",
   "mimetype": "text/x-python",
   "name": "python",
   "nbconvert_exporter": "python",
   "pygments_lexer": "ipython3",
   "version": "3.11.7"
  }
 },
 "nbformat": 4,
 "nbformat_minor": 2
}
